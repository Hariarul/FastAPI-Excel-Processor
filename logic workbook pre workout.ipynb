{
 "cells": [
  {
   "cell_type": "code",
   "execution_count": 19,
   "id": "9fd3cbf7-7f70-4b94-adc2-a6619c1e1c4e",
   "metadata": {},
   "outputs": [],
   "source": [
    "import numpy as np\n",
    "import pandas as pd"
   ]
  },
  {
   "cell_type": "code",
   "execution_count": 57,
   "id": "de338b18-dc10-41cb-ad4b-b29d94cc25f5",
   "metadata": {},
   "outputs": [],
   "source": [
    "sheets = ['investment measures','growth rates','working capital','discount rate','cashflow details','initial investment']"
   ]
  },
  {
   "cell_type": "code",
   "execution_count": 58,
   "id": "4962107b-1238-4fe7-a265-5998c2a32be4",
   "metadata": {},
   "outputs": [],
   "source": [
    "df = pd.read_excel(r\"C:\\Users\\user\\Downloads\\capbudg_new.xlsx\",sheet_name=sheets)"
   ]
  },
  {
   "cell_type": "code",
   "execution_count": 63,
   "id": "e147ae05-0b9f-4faf-82ab-3391c619bb53",
   "metadata": {},
   "outputs": [],
   "source": [
    "df['cashflow details'] = df['cashflow details'].drop('Column1', axis=1)"
   ]
  },
  {
   "cell_type": "code",
   "execution_count": 64,
   "id": "6130632c-cc06-443d-b1b8-798c35d6a7d5",
   "metadata": {},
   "outputs": [
    {
     "data": {
      "text/html": [
       "<div>\n",
       "<style scoped>\n",
       "    .dataframe tbody tr th:only-of-type {\n",
       "        vertical-align: middle;\n",
       "    }\n",
       "\n",
       "    .dataframe tbody tr th {\n",
       "        vertical-align: top;\n",
       "    }\n",
       "\n",
       "    .dataframe thead th {\n",
       "        text-align: right;\n",
       "    }\n",
       "</style>\n",
       "<table border=\"1\" class=\"dataframe\">\n",
       "  <thead>\n",
       "    <tr style=\"text-align: right;\">\n",
       "      <th></th>\n",
       "      <th>CASHFLOW DETAILS</th>\n",
       "      <th>Column2</th>\n",
       "    </tr>\n",
       "  </thead>\n",
       "  <tbody>\n",
       "    <tr>\n",
       "      <th>0</th>\n",
       "      <td>Revenues in  year 1=</td>\n",
       "      <td>40000.0</td>\n",
       "    </tr>\n",
       "    <tr>\n",
       "      <th>1</th>\n",
       "      <td>Var. Expenses as % of Rev=</td>\n",
       "      <td>0.5</td>\n",
       "    </tr>\n",
       "    <tr>\n",
       "      <th>2</th>\n",
       "      <td>Fixed expenses in year 1=</td>\n",
       "      <td>0.0</td>\n",
       "    </tr>\n",
       "    <tr>\n",
       "      <th>3</th>\n",
       "      <td>Tax rate on net income=</td>\n",
       "      <td>0.4</td>\n",
       "    </tr>\n",
       "  </tbody>\n",
       "</table>\n",
       "</div>"
      ],
      "text/plain": [
       "             CASHFLOW DETAILS  Column2\n",
       "0        Revenues in  year 1=  40000.0\n",
       "1  Var. Expenses as % of Rev=      0.5\n",
       "2   Fixed expenses in year 1=      0.0\n",
       "3     Tax rate on net income=      0.4"
      ]
     },
     "execution_count": 64,
     "metadata": {},
     "output_type": "execute_result"
    }
   ],
   "source": [
    "df['cashflow details']"
   ]
  },
  {
   "cell_type": "code",
   "execution_count": 67,
   "id": "067b3ad5-3187-4149-af36-6ce3ba7902ea",
   "metadata": {},
   "outputs": [],
   "source": [
    "df['discount rate'] = df['discount rate'].drop('Column1',axis=1)"
   ]
  },
  {
   "cell_type": "code",
   "execution_count": 71,
   "id": "b5042c84-3490-4f11-9afb-7e5f9a17f933",
   "metadata": {},
   "outputs": [
    {
     "data": {
      "text/html": [
       "<div>\n",
       "<style scoped>\n",
       "    .dataframe tbody tr th:only-of-type {\n",
       "        vertical-align: middle;\n",
       "    }\n",
       "\n",
       "    .dataframe tbody tr th {\n",
       "        vertical-align: top;\n",
       "    }\n",
       "\n",
       "    .dataframe thead th {\n",
       "        text-align: right;\n",
       "    }\n",
       "</style>\n",
       "<table border=\"1\" class=\"dataframe\">\n",
       "  <thead>\n",
       "    <tr style=\"text-align: right;\">\n",
       "      <th></th>\n",
       "      <th>WORKING CAPITAL</th>\n",
       "      <th>Column1</th>\n",
       "      <th>Column2</th>\n",
       "    </tr>\n",
       "  </thead>\n",
       "  <tbody>\n",
       "    <tr>\n",
       "      <th>0</th>\n",
       "      <td>Initial Investment in Work. Cap=</td>\n",
       "      <td>NaN</td>\n",
       "      <td>10000.00</td>\n",
       "    </tr>\n",
       "    <tr>\n",
       "      <th>1</th>\n",
       "      <td>Working Capital as % of Rev=</td>\n",
       "      <td>NaN</td>\n",
       "      <td>0.25</td>\n",
       "    </tr>\n",
       "    <tr>\n",
       "      <th>2</th>\n",
       "      <td>Salvageable fraction at end=</td>\n",
       "      <td>NaN</td>\n",
       "      <td>1.00</td>\n",
       "    </tr>\n",
       "  </tbody>\n",
       "</table>\n",
       "</div>"
      ],
      "text/plain": [
       "                    WORKING CAPITAL  Column1   Column2\n",
       "0  Initial Investment in Work. Cap=      NaN  10000.00\n",
       "1      Working Capital as % of Rev=      NaN      0.25\n",
       "2      Salvageable fraction at end=      NaN      1.00"
      ]
     },
     "execution_count": 71,
     "metadata": {},
     "output_type": "execute_result"
    }
   ],
   "source": [
    "df['working capital']"
   ]
  },
  {
   "cell_type": "code",
   "execution_count": 81,
   "id": "02db8b6b-710c-4ea3-909c-bd5fe3f62cab",
   "metadata": {},
   "outputs": [],
   "source": [
    "def read_file(df):\n",
    "    df = pd.read_excel(df)\n",
    "    for i in df.keys():\n",
    "        df = pd.read_excel(df,sheet_name=i)\n",
    "        df[i] = df[i].drop('Column1',axis=1)\n",
    "        return df\n"
   ]
  },
  {
   "cell_type": "code",
   "execution_count": 128,
   "id": "e3d4145d-72e1-4ed6-8c0c-6d72c4b246b1",
   "metadata": {},
   "outputs": [],
   "source": [
    "def load_file(df):\n",
    "    df = pd.read_excel(df,sheet_name=sheets)\n",
    "    for i in df.keys():\n",
    "        df[i] = df[i].drop('Column1',axis=1)\n",
    "    return df"
   ]
  },
  {
   "cell_type": "code",
   "execution_count": 129,
   "id": "3aa988db-df26-4761-a36c-20c8ec6addd4",
   "metadata": {},
   "outputs": [],
   "source": [
    "data = load_file(r\"C:\\Users\\user\\Downloads\\capbudg_new.xlsx\")"
   ]
  },
  {
   "cell_type": "code",
   "execution_count": 130,
   "id": "ad91b7b9-907f-40ce-943f-d87364e91159",
   "metadata": {},
   "outputs": [
    {
     "data": {
      "text/html": [
       "<div>\n",
       "<style scoped>\n",
       "    .dataframe tbody tr th:only-of-type {\n",
       "        vertical-align: middle;\n",
       "    }\n",
       "\n",
       "    .dataframe tbody tr th {\n",
       "        vertical-align: top;\n",
       "    }\n",
       "\n",
       "    .dataframe thead th {\n",
       "        text-align: right;\n",
       "    }\n",
       "</style>\n",
       "<table border=\"1\" class=\"dataframe\">\n",
       "  <thead>\n",
       "    <tr style=\"text-align: right;\">\n",
       "      <th></th>\n",
       "      <th>CASHFLOW DETAILS</th>\n",
       "      <th>Column2</th>\n",
       "    </tr>\n",
       "  </thead>\n",
       "  <tbody>\n",
       "    <tr>\n",
       "      <th>0</th>\n",
       "      <td>Revenues in  year 1=</td>\n",
       "      <td>40000.0</td>\n",
       "    </tr>\n",
       "    <tr>\n",
       "      <th>1</th>\n",
       "      <td>Var. Expenses as % of Rev=</td>\n",
       "      <td>0.5</td>\n",
       "    </tr>\n",
       "    <tr>\n",
       "      <th>2</th>\n",
       "      <td>Fixed expenses in year 1=</td>\n",
       "      <td>0.0</td>\n",
       "    </tr>\n",
       "    <tr>\n",
       "      <th>3</th>\n",
       "      <td>Tax rate on net income=</td>\n",
       "      <td>0.4</td>\n",
       "    </tr>\n",
       "  </tbody>\n",
       "</table>\n",
       "</div>"
      ],
      "text/plain": [
       "             CASHFLOW DETAILS  Column2\n",
       "0        Revenues in  year 1=  40000.0\n",
       "1  Var. Expenses as % of Rev=      0.5\n",
       "2   Fixed expenses in year 1=      0.0\n",
       "3     Tax rate on net income=      0.4"
      ]
     },
     "execution_count": 130,
     "metadata": {},
     "output_type": "execute_result"
    }
   ],
   "source": [
    "data['cashflow details']"
   ]
  },
  {
   "cell_type": "code",
   "execution_count": 99,
   "id": "b9533f63-066f-4f9b-ba16-8149f05a90fe",
   "metadata": {},
   "outputs": [
    {
     "data": {
      "text/html": [
       "<div>\n",
       "<style scoped>\n",
       "    .dataframe tbody tr th:only-of-type {\n",
       "        vertical-align: middle;\n",
       "    }\n",
       "\n",
       "    .dataframe tbody tr th {\n",
       "        vertical-align: top;\n",
       "    }\n",
       "\n",
       "    .dataframe thead th {\n",
       "        text-align: right;\n",
       "    }\n",
       "</style>\n",
       "<table border=\"1\" class=\"dataframe\">\n",
       "  <thead>\n",
       "    <tr style=\"text-align: right;\">\n",
       "      <th></th>\n",
       "      <th>DISCOUNT RATE</th>\n",
       "      <th>Column2</th>\n",
       "    </tr>\n",
       "  </thead>\n",
       "  <tbody>\n",
       "    <tr>\n",
       "      <th>0</th>\n",
       "      <td>Approach(1:Direct;2:CAPM)=</td>\n",
       "      <td>2.000</td>\n",
       "    </tr>\n",
       "    <tr>\n",
       "      <th>1</th>\n",
       "      <td>1. Discount rate =</td>\n",
       "      <td>0.100</td>\n",
       "    </tr>\n",
       "    <tr>\n",
       "      <th>2</th>\n",
       "      <td>2a. Beta</td>\n",
       "      <td>0.900</td>\n",
       "    </tr>\n",
       "    <tr>\n",
       "      <th>3</th>\n",
       "      <td>b. Riskless rate=</td>\n",
       "      <td>0.080</td>\n",
       "    </tr>\n",
       "    <tr>\n",
       "      <th>4</th>\n",
       "      <td>c. Market risk premium =</td>\n",
       "      <td>0.055</td>\n",
       "    </tr>\n",
       "    <tr>\n",
       "      <th>5</th>\n",
       "      <td>d. Debt Ratio =</td>\n",
       "      <td>0.300</td>\n",
       "    </tr>\n",
       "    <tr>\n",
       "      <th>6</th>\n",
       "      <td>e. Cost of Borrowing =</td>\n",
       "      <td>0.090</td>\n",
       "    </tr>\n",
       "  </tbody>\n",
       "</table>\n",
       "</div>"
      ],
      "text/plain": [
       "                DISCOUNT RATE  Column2\n",
       "0  Approach(1:Direct;2:CAPM)=    2.000\n",
       "1          1. Discount rate =    0.100\n",
       "2                    2a. Beta    0.900\n",
       "3           b. Riskless rate=    0.080\n",
       "4    c. Market risk premium =    0.055\n",
       "5             d. Debt Ratio =    0.300\n",
       "6      e. Cost of Borrowing =    0.090"
      ]
     },
     "execution_count": 99,
     "metadata": {},
     "output_type": "execute_result"
    }
   ],
   "source": [
    "data['discount rate']"
   ]
  },
  {
   "cell_type": "code",
   "execution_count": 100,
   "id": "0536e337-1ba2-4936-ba63-cf06d4d10abe",
   "metadata": {},
   "outputs": [
    {
     "data": {
      "text/plain": [
       "dict_keys(['investment measures', 'growth rates', 'working capital', 'discount rate', 'cashflow details', 'initial investment'])"
      ]
     },
     "execution_count": 100,
     "metadata": {},
     "output_type": "execute_result"
    }
   ],
   "source": [
    "data.keys()"
   ]
  },
  {
   "cell_type": "code",
   "execution_count": 102,
   "id": "8f4eeb6d-4229-42d0-8bcb-b00d58413f95",
   "metadata": {},
   "outputs": [
    {
     "data": {
      "text/html": [
       "<div>\n",
       "<style scoped>\n",
       "    .dataframe tbody tr th:only-of-type {\n",
       "        vertical-align: middle;\n",
       "    }\n",
       "\n",
       "    .dataframe tbody tr th {\n",
       "        vertical-align: top;\n",
       "    }\n",
       "\n",
       "    .dataframe thead th {\n",
       "        text-align: right;\n",
       "    }\n",
       "</style>\n",
       "<table border=\"1\" class=\"dataframe\">\n",
       "  <thead>\n",
       "    <tr style=\"text-align: right;\">\n",
       "      <th></th>\n",
       "      <th>DISCOUNT RATE</th>\n",
       "      <th>Column2</th>\n",
       "    </tr>\n",
       "  </thead>\n",
       "  <tbody>\n",
       "    <tr>\n",
       "      <th>0</th>\n",
       "      <td>Approach(1:Direct;2:CAPM)=</td>\n",
       "      <td>2.000</td>\n",
       "    </tr>\n",
       "    <tr>\n",
       "      <th>1</th>\n",
       "      <td>1. Discount rate =</td>\n",
       "      <td>0.100</td>\n",
       "    </tr>\n",
       "    <tr>\n",
       "      <th>2</th>\n",
       "      <td>2a. Beta</td>\n",
       "      <td>0.900</td>\n",
       "    </tr>\n",
       "    <tr>\n",
       "      <th>3</th>\n",
       "      <td>b. Riskless rate=</td>\n",
       "      <td>0.080</td>\n",
       "    </tr>\n",
       "    <tr>\n",
       "      <th>4</th>\n",
       "      <td>c. Market risk premium =</td>\n",
       "      <td>0.055</td>\n",
       "    </tr>\n",
       "    <tr>\n",
       "      <th>5</th>\n",
       "      <td>d. Debt Ratio =</td>\n",
       "      <td>0.300</td>\n",
       "    </tr>\n",
       "    <tr>\n",
       "      <th>6</th>\n",
       "      <td>e. Cost of Borrowing =</td>\n",
       "      <td>0.090</td>\n",
       "    </tr>\n",
       "  </tbody>\n",
       "</table>\n",
       "</div>"
      ],
      "text/plain": [
       "                DISCOUNT RATE  Column2\n",
       "0  Approach(1:Direct;2:CAPM)=    2.000\n",
       "1          1. Discount rate =    0.100\n",
       "2                    2a. Beta    0.900\n",
       "3           b. Riskless rate=    0.080\n",
       "4    c. Market risk premium =    0.055\n",
       "5             d. Debt Ratio =    0.300\n",
       "6      e. Cost of Borrowing =    0.090"
      ]
     },
     "execution_count": 102,
     "metadata": {},
     "output_type": "execute_result"
    }
   ],
   "source": [
    "data['discount rate']"
   ]
  },
  {
   "cell_type": "code",
   "execution_count": 119,
   "id": "4404bf6e-83b7-4b11-bc68-31d7b881aecc",
   "metadata": {},
   "outputs": [
    {
     "name": "stdout",
     "output_type": "stream",
     "text": [
      "tables: ['investment measures', 'growth rates', 'working capital', 'discount rate', 'cashflow details', 'initial investment']\n"
     ]
    }
   ],
   "source": [
    "print(f\"tables: {list(data.keys())}\")"
   ]
  },
  {
   "cell_type": "code",
   "execution_count": 117,
   "id": "e84abcd0-0912-47ff-bdf0-f7eae52d9d19",
   "metadata": {},
   "outputs": [
    {
     "data": {
      "text/plain": [
       "['investment measures',\n",
       " 'growth rates',\n",
       " 'working capital',\n",
       " 'discount rate',\n",
       " 'cashflow details',\n",
       " 'initial investment']"
      ]
     },
     "execution_count": 117,
     "metadata": {},
     "output_type": "execute_result"
    }
   ],
   "source": [
    "list(data.keys())"
   ]
  },
  {
   "cell_type": "code",
   "execution_count": 132,
   "id": "3359c1b5-01e9-4ce8-b556-eac1782782f1",
   "metadata": {},
   "outputs": [
    {
     "data": {
      "text/plain": [
       "0          Revenues in  year 1=\n",
       "1    Var. Expenses as % of Rev=\n",
       "2     Fixed expenses in year 1=\n",
       "3       Tax rate on net income=\n",
       "Name: CASHFLOW DETAILS, dtype: object"
      ]
     },
     "execution_count": 132,
     "metadata": {},
     "output_type": "execute_result"
    }
   ],
   "source": [
    "data['cashflow details']['CASHFLOW DETAILS']"
   ]
  },
  {
   "cell_type": "code",
   "execution_count": null,
   "id": "58ce4041-6086-4def-a84c-deceb5bd734c",
   "metadata": {},
   "outputs": [],
   "source": [
    "def get_rows(data):\n",
    "    data[data.]"
   ]
  },
  {
   "cell_type": "code",
   "execution_count": 144,
   "id": "2da971ca-7b88-4926-842c-b9cfcea83db4",
   "metadata": {},
   "outputs": [
    {
     "data": {
      "text/plain": [
       "['investment measures',\n",
       " 'growth rates',\n",
       " 'working capital',\n",
       " 'discount rate',\n",
       " 'cashflow details',\n",
       " 'initial investment']"
      ]
     },
     "execution_count": 144,
     "metadata": {},
     "output_type": "execute_result"
    }
   ],
   "source": [
    "list(data.keys())"
   ]
  },
  {
   "cell_type": "code",
   "execution_count": 187,
   "id": "e0554a53-253a-4e9b-b5f1-b1ea5e3ac985",
   "metadata": {},
   "outputs": [],
   "source": [
    "table_list = list(data.keys())\n"
   ]
  },
  {
   "cell_type": "code",
   "execution_count": 228,
   "id": "6dcd73e2-1927-4d16-98ca-8f6db9b8e2d5",
   "metadata": {},
   "outputs": [],
   "source": [
    "def fetch_data(data):\n",
    "    for i in table_list:\n",
    "        get_rows = data[i][i.upper()].iloc[:]\n",
    "        return get_rows\n",
    "    "
   ]
  },
  {
   "cell_type": "code",
   "execution_count": 230,
   "id": "ced0f323-b81f-476a-9b26-60e604a21e5a",
   "metadata": {},
   "outputs": [],
   "source": [
    "def fetch_data(data, table_list):\n",
    "    result = {}\n",
    "    for i in table_list:\n",
    "        column_name = i.upper()\n",
    "        df = data[i]\n",
    "\n",
    "        # Check if the uppercase column exists\n",
    "        if column_name in df.columns:\n",
    "            result[i] = df[column_name].iloc[:]\n",
    "        else:\n",
    "            result[i] = f\"Column '{column_name}' not found in table '{i}'\"\n",
    "    \n",
    "    return result\n"
   ]
  },
  {
   "cell_type": "code",
   "execution_count": 231,
   "id": "96896c30-b07b-4131-b780-f3021cac0c75",
   "metadata": {},
   "outputs": [
    {
     "data": {
      "text/plain": [
       "{'investment measures': \"Column 'INVESTMENT MEASURES' not found in table 'investment measures'\",\n",
       " 'growth rates': 0          Revenues\n",
       " 1    Fixed Expenses\n",
       " Name: GROWTH RATES, dtype: object,\n",
       " 'working capital': 0    Initial Investment in Work. Cap=\n",
       " 1        Working Capital as % of Rev=\n",
       " 2        Salvageable fraction at end=\n",
       " Name: WORKING CAPITAL, dtype: object,\n",
       " 'discount rate': 0    Approach(1:Direct;2:CAPM)=\n",
       " 1            1. Discount rate =\n",
       " 2                      2a. Beta\n",
       " 3             b. Riskless rate=\n",
       " 4      c. Market risk premium =\n",
       " 5               d. Debt Ratio =\n",
       " 6        e. Cost of Borrowing =\n",
       " Name: DISCOUNT RATE, dtype: object,\n",
       " 'cashflow details': 0          Revenues in  year 1=\n",
       " 1    Var. Expenses as % of Rev=\n",
       " 2     Fixed expenses in year 1=\n",
       " 3       Tax rate on net income=\n",
       " Name: CASHFLOW DETAILS, dtype: object,\n",
       " 'initial investment': 0                 Initial Investment=\n",
       " 1          Opportunity cost (if any)=\n",
       " 2          Lifetime of the investment\n",
       " 3    Salvage Value at end of project=\n",
       " 4    Deprec. method(1:St.line;2:DDB)=\n",
       " 5               Tax Credit (if any )=\n",
       " 6     Other invest.(non-depreciable)=\n",
       " Name: INITIAL INVESTMENT, dtype: object}"
      ]
     },
     "execution_count": 231,
     "metadata": {},
     "output_type": "execute_result"
    }
   ],
   "source": [
    "fetch_data(data,table_list)"
   ]
  },
  {
   "cell_type": "code",
   "execution_count": 271,
   "id": "7cdd9b3e-3fb4-4793-be61-fb7cb7bae6e5",
   "metadata": {},
   "outputs": [],
   "source": [
    "def fetch_data(data, table_name: str):\n",
    "    column_name = table_name.upper()\n",
    "\n",
    "    if table_name not in data:\n",
    "        return f\"Table '{table_name}' not found.\"\n",
    "\n",
    "    df = data[table_name]\n",
    "\n",
    "    if column_name not in df.columns:\n",
    "        return f\"Column '{column_name}' not found in table '{table_name}'.\"\n",
    "    print(f\"table_name: {df.columns[0]}\")\n",
    "    print(f\"row_names: {df[column_name].iloc[:]}\",end=',')\n",
    "\n"
   ]
  },
  {
   "cell_type": "code",
   "execution_count": 272,
   "id": "a4414805-b6e3-4026-bd21-c1834d3d1f60",
   "metadata": {},
   "outputs": [
    {
     "name": "stdout",
     "output_type": "stream",
     "text": [
      "table_name: CASHFLOW DETAILS\n"
     ]
    },
    {
     "data": {
      "text/plain": [
       "0          Revenues in  year 1=\n",
       "1    Var. Expenses as % of Rev=\n",
       "2     Fixed expenses in year 1=\n",
       "3       Tax rate on net income=\n",
       "Name: CASHFLOW DETAILS, dtype: object"
      ]
     },
     "execution_count": 272,
     "metadata": {},
     "output_type": "execute_result"
    }
   ],
   "source": [
    "fetch_data(data,'cashflow details')"
   ]
  },
  {
   "cell_type": "code",
   "execution_count": 239,
   "id": "e214d4be-e169-4a1a-bc56-16cf54fd572b",
   "metadata": {},
   "outputs": [
    {
     "data": {
      "text/plain": [
       "'investment measures'"
      ]
     },
     "execution_count": 239,
     "metadata": {},
     "output_type": "execute_result"
    }
   ],
   "source": [
    "list(data.keys())[0]"
   ]
  },
  {
   "cell_type": "code",
   "execution_count": 244,
   "id": "495d3ea8-879b-4098-ba40-124c1982266a",
   "metadata": {},
   "outputs": [],
   "source": [
    "\n",
    "def fetch_data(data, table_name : get):\n",
    "    column_name = table_name.upper()\n",
    "\n",
    "    if table_name not in data:\n",
    "        return f\"Table '{table_name}' not found.\"\n",
    "\n",
    "    df = data[table_name]\n",
    "\n",
    "    if column_name not in df.columns:\n",
    "        return f\"Column '{column_name}' not found in table '{table_name}'.\"\n",
    "\n",
    "    return df[column_name].iloc[:]\n"
   ]
  },
  {
   "cell_type": "code",
   "execution_count": 249,
   "id": "7e672b6f-2e9d-4c34-b8d7-1154d5e42769",
   "metadata": {},
   "outputs": [
    {
     "name": "stdin",
     "output_type": "stream",
     "text": [
      " 1\n"
     ]
    },
    {
     "data": {
      "text/plain": [
       "0          Revenues\n",
       "1    Fixed Expenses\n",
       "Name: GROWTH RATES, dtype: object"
      ]
     },
     "execution_count": 249,
     "metadata": {},
     "output_type": "execute_result"
    }
   ],
   "source": [
    "table = int(input())\n",
    "get = list(data.keys())[table]\n",
    "fetch_data(data,get)"
   ]
  },
  {
   "cell_type": "code",
   "execution_count": null,
   "id": "ab37937d-1c75-42c0-9c9c-8a98221ee257",
   "metadata": {},
   "outputs": [],
   "source": []
  },
  {
   "cell_type": "code",
   "execution_count": null,
   "id": "9167f506-f26f-4f80-a594-24745a6af78c",
   "metadata": {},
   "outputs": [],
   "source": []
  }
 ],
 "metadata": {
  "kernelspec": {
   "display_name": "Python 3 (ipykernel)",
   "language": "python",
   "name": "python3"
  },
  "language_info": {
   "codemirror_mode": {
    "name": "ipython",
    "version": 3
   },
   "file_extension": ".py",
   "mimetype": "text/x-python",
   "name": "python",
   "nbconvert_exporter": "python",
   "pygments_lexer": "ipython3",
   "version": "3.12.7"
  }
 },
 "nbformat": 4,
 "nbformat_minor": 5
}
